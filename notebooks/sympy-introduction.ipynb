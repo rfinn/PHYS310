{
 "cells": [
  {
   "cell_type": "markdown",
   "metadata": {},
   "source": [
    "# Introduction to sympy\n",
    "\n",
    "* sympy is a python module that allows us to perform symbolic manipulations.\n",
    "\n",
    "* The following examples are taken primarily from\n",
    "https://docs.sympy.org/latest/tutorials/intro-tutorial/intro.html\n",
    "\n",
    "* Run each cell, and note carefully the output.  This will help you understand how to use sympy to complete symbolic manipulations and solve equations.\n",
    "\n",
    "* Complete the exercises with your teammates."
   ]
  },
  {
   "cell_type": "code",
   "execution_count": null,
   "metadata": {},
   "outputs": [],
   "source": [
    "import numpy as np\n",
    "from matplotlib import pyplot as plt\n",
    "import sympy as sp\n",
    "sp.init_printing(use_unicode=True)"
   ]
  },
  {
   "cell_type": "code",
   "execution_count": null,
   "metadata": {},
   "outputs": [],
   "source": [
    "sp.sqrt(3)"
   ]
  },
  {
   "cell_type": "code",
   "execution_count": null,
   "metadata": {},
   "outputs": [],
   "source": [
    "sp.sqrt(8)"
   ]
  },
  {
   "cell_type": "markdown",
   "metadata": {},
   "source": [
    "# Using Symbols"
   ]
  },
  {
   "cell_type": "code",
   "execution_count": null,
   "metadata": {},
   "outputs": [],
   "source": [
    "# define x and y as symbolic variables\n",
    "x, y = sp.symbols('x y')"
   ]
  },
  {
   "cell_type": "code",
   "execution_count": null,
   "metadata": {},
   "outputs": [],
   "source": [
    "# calculate a new expression in terms of x and y\n",
    "expr = x + 2*y"
   ]
  },
  {
   "cell_type": "code",
   "execution_count": null,
   "metadata": {},
   "outputs": [],
   "source": [
    "# print the expression\n",
    "expr"
   ]
  },
  {
   "cell_type": "code",
   "execution_count": null,
   "metadata": {},
   "outputs": [],
   "source": [
    "# perform an algebraic manipulation \n",
    "x*expr"
   ]
  },
  {
   "cell_type": "code",
   "execution_count": null,
   "metadata": {},
   "outputs": [],
   "source": [
    "expanded_expr = sp.expand(x*expr)\n",
    "expanded_expr"
   ]
  },
  {
   "cell_type": "code",
   "execution_count": null,
   "metadata": {},
   "outputs": [],
   "source": [
    "# calculate the factors in the expression\n",
    "sp.factor(expanded_expr)"
   ]
  },
  {
   "cell_type": "markdown",
   "metadata": {},
   "source": [
    "# More sophisticated computations"
   ]
  },
  {
   "cell_type": "code",
   "execution_count": null,
   "metadata": {},
   "outputs": [],
   "source": [
    "# define a set of symbolic variables\n",
    "x, t, z, nu = sp.symbols('x t z nu')"
   ]
  },
  {
   "cell_type": "code",
   "execution_count": null,
   "metadata": {},
   "outputs": [],
   "source": [
    "# take derivative of sin(x) * e^x\n",
    "sp.diff(sp.sin(x)*sp.exp(x), x)"
   ]
  },
  {
   "cell_type": "code",
   "execution_count": null,
   "metadata": {},
   "outputs": [],
   "source": [
    "# now integrate WRT x\n",
    "sp.integrate(sp.exp(x)*sp.sin(x) + sp.exp(x)*sp.cos(x), x)"
   ]
  },
  {
   "cell_type": "code",
   "execution_count": null,
   "metadata": {},
   "outputs": [],
   "source": [
    "# definite integral\n",
    "# integrate( function, (wrt this variable, lower limit, upper limit))\n",
    "sp.integrate(sp.sin(x**2), (x, -1*sp.oo, sp.oo))"
   ]
  },
  {
   "cell_type": "code",
   "execution_count": null,
   "metadata": {},
   "outputs": [],
   "source": [
    "# take limit of sin(x)/x as x -> 0\n",
    "sp.limit(sp.sin(x)/x, x, 0)\n",
    "\n",
    "# you can check this using L'Hopital's rule"
   ]
  },
  {
   "cell_type": "code",
   "execution_count": null,
   "metadata": {},
   "outputs": [],
   "source": [
    "# solve a quadratic equation\n",
    "\n",
    "sp.solve(x**2 - 2, x)"
   ]
  },
  {
   "cell_type": "code",
   "execution_count": null,
   "metadata": {},
   "outputs": [],
   "source": [
    "# you can take the derivative of a general function\n",
    "y = sp.symbols('y')\n",
    "y = sp.sin(t)\n",
    "print('derivative of sin wrt t = ',sp.diff(y,t))\n",
    "print('second derivative of sin wrt t = ',sp.diff(y,t, t))\n",
    "print('third derivative of sin wrt t = ',sp.diff(y,t,t,t))\n",
    "print('third derivative of sin wrt t = ',sp.diff(y,t,3))"
   ]
  },
  {
   "cell_type": "code",
   "execution_count": null,
   "metadata": {},
   "outputs": [],
   "source": []
  },
  {
   "cell_type": "markdown",
   "metadata": {},
   "source": [
    "# Plotting Functions\n",
    "\n",
    "Let's see how we can visualize some of the function using python's matplotlib plotting library."
   ]
  },
  {
   "cell_type": "code",
   "execution_count": null,
   "metadata": {},
   "outputs": [],
   "source": [
    "\n",
    "# create an array of time values\n",
    "nptime = np.linspace(0,2*np.pi,100)\n",
    "\n",
    "# create the function y=sin(t)\n",
    "y, t = sp.symbols('y t')\n",
    "y = sp.sin(t)\n",
    "yprime = sp.diff(y,t)\n",
    "\n",
    "# make this into a function\n",
    "f = sp.lambdify(t, y, 'numpy')\n",
    "\n",
    "fprime = sp.lambdify(t, yprime, 'numpy')\n",
    "\n",
    "\n",
    "plt.figure()\n",
    "# plot f vs t\n",
    "plt.plot(nptime,f(nptime),label=\"y(t)\")\n",
    "\n",
    "# plot the derivative of f vs t\n",
    "plt.plot(nptime,fprime(nptime),label=\"y'(t)\")\n",
    "\n",
    "\n",
    "# add a legend\n",
    "plt.legend()\n",
    "# label the axes\n",
    "plt.xlabel('Time')\n",
    "plt.ylabel('Amplitude')\n",
    "# add a horizontal line at y=0\n",
    "plt.axhline(y=0,c='0.5',ls='--')"
   ]
  },
  {
   "cell_type": "markdown",
   "metadata": {},
   "source": [
    "# Exercise 1: additional derivatives\n",
    "\n",
    "In the cell below, replicate the code for plotting $sin(t)$ and $d/dt(sin(t))$.  Then add the 3rd and 4th derivatives to the figure."
   ]
  },
  {
   "cell_type": "code",
   "execution_count": null,
   "metadata": {},
   "outputs": [],
   "source": []
  },
  {
   "cell_type": "markdown",
   "metadata": {},
   "source": [
    "# Differential Equations\n",
    "\n",
    "solve \n",
    "\n",
    "$$ y''(t) - y(t) = e^t$$"
   ]
  },
  {
   "cell_type": "code",
   "execution_count": null,
   "metadata": {},
   "outputs": [],
   "source": [
    "# define a generic function y\n",
    "y = sp.Function('y')\n",
    "\n",
    "# define the differential equation\n",
    "# first part is left hand side of equation\n",
    "# after comma is the right hand side of the equation\n",
    "my_diffeq = sp.Eq(y(t).diff(t,t) - y(t), sp.exp(t))\n",
    "\n",
    "# solve the differential equation for y(t)\n",
    "sp.dsolve(my_diffeq, y(t))"
   ]
  },
  {
   "cell_type": "markdown",
   "metadata": {},
   "source": [
    "## Eample 2: Solve the Harmonic Oscillator\n",
    "\n",
    "The equation is\n",
    "\n",
    "$$ x'' = -\\omega^2 x$$\n",
    "\n",
    "Write the code to solve this differential equation."
   ]
  },
  {
   "cell_type": "code",
   "execution_count": null,
   "metadata": {},
   "outputs": [],
   "source": [
    "# define a generic function y\n",
    "t, omega = sp.symbols('t omega')\n",
    "x = sp.Function('x')\n",
    "\n",
    "# define the differential equation\n",
    "# first part is left hand side of equation\n",
    "# after comma is the right hand side of the equation\n",
    "my_diffeq = sp.Eq(x(t).diff(t,t) - omega**2*x(t), 0)\n",
    "\n",
    "# solve the differential equation for y(t)\n",
    "sp.dsolve(my_diffeq, x(t))"
   ]
  },
  {
   "cell_type": "markdown",
   "metadata": {},
   "source": [
    "## Exercise 2: Damped Harmonic Motion\n",
    "\n",
    "A mass on a spring is submerged in water such that it experiences a drag force that is proportional to its velocity.  Analyze the motion of a mass on a spring to determine the differential equation that describes its motion.\n",
    "\n",
    "The equation is\n",
    "\n",
    "$$ YOUR \\ \\ ANSWER \\ \\ HERE $$\n",
    "\n",
    "Then write the code to solve this differential equation."
   ]
  },
  {
   "cell_type": "code",
   "execution_count": null,
   "metadata": {},
   "outputs": [],
   "source": [
    "# YOUR CODE HERE"
   ]
  },
  {
   "cell_type": "markdown",
   "metadata": {},
   "source": [
    "# Solving Equations\n",
    "\n",
    "What if we want to solve an equation for x?\n",
    "$$ 7x + 5 = 0$$\n",
    "\n",
    "What if we want to solve two equations with two unknowns?\n",
    "$$ 2x - 5 y = 7 $$\n",
    "$$ x + y = 2 $$\n",
    "\n",
    "Let's look at the first example first, namely solving one equation for one unknown."
   ]
  },
  {
   "cell_type": "code",
   "execution_count": null,
   "metadata": {},
   "outputs": [],
   "source": [
    "# solve 7x + 5 = 0 for x\n",
    "sp.solve(7*x+5, x)"
   ]
  },
  {
   "cell_type": "code",
   "execution_count": null,
   "metadata": {},
   "outputs": [],
   "source": [
    "# solve a quadratic\n",
    "# x^2 - 2 = 0\n",
    "sp.solve(x**2-2,x)"
   ]
  },
  {
   "cell_type": "code",
   "execution_count": null,
   "metadata": {},
   "outputs": [],
   "source": [
    "x, y = sp.symbols('x y')\n",
    "# solve two equations and two unknowns\n",
    "sp.solve([2*x-5*y-7, x+y-2],[x,y])"
   ]
  },
  {
   "cell_type": "markdown",
   "metadata": {},
   "source": [
    "# Additional Problems\n",
    "\n",
    "Complete Problems 23 and 25 from the textbook.\n",
    "\n",
    "### Problem 23\n",
    "Solve the following equations for x\n",
    "* $7x + 5 = 0$\n",
    "* $x^2 - 5x + 2 = 0$\n",
    "* $x^3 +7x - 5 = 3$\n",
    "\n",
    "### Problem 25\n",
    "\n",
    "Solve the differential equation for $f(x)$\n",
    "\n",
    "$$ \\frac{df}{dx} = -x^2 + 3 $$"
   ]
  },
  {
   "cell_type": "code",
   "execution_count": null,
   "metadata": {},
   "outputs": [],
   "source": [
    "# your solution for Problem 23"
   ]
  },
  {
   "cell_type": "code",
   "execution_count": null,
   "metadata": {},
   "outputs": [],
   "source": [
    "# your solution for Problem 25"
   ]
  },
  {
   "cell_type": "code",
   "execution_count": null,
   "metadata": {},
   "outputs": [],
   "source": []
  }
 ],
 "metadata": {
  "kernelspec": {
   "display_name": "Python 3",
   "language": "python",
   "name": "python3"
  },
  "language_info": {
   "codemirror_mode": {
    "name": "ipython",
    "version": 3
   },
   "file_extension": ".py",
   "mimetype": "text/x-python",
   "name": "python",
   "nbconvert_exporter": "python",
   "pygments_lexer": "ipython3",
   "version": "3.8.5"
  }
 },
 "nbformat": 4,
 "nbformat_minor": 4
}
