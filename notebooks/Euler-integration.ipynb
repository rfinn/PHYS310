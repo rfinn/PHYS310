{
 "cells": [
  {
   "cell_type": "markdown",
   "metadata": {},
   "source": [
    "# Euler Integration\n",
    "\n",
    "One of the most straight-forward computational solutions for a differential equation is the Euler method.  \n",
    "\n",
    "In this notebook we will look at Example 2.5 in the textbook and adapt this example to model two other physical situations plus a third problem of your choosing."
   ]
  },
  {
   "cell_type": "markdown",
   "metadata": {},
   "source": [
    "# Example 2.5: Air resistance in the presence of gravity"
   ]
  },
  {
   "cell_type": "code",
   "execution_count": null,
   "metadata": {},
   "outputs": [],
   "source": [
    "# Example 2.5: Air resistance in the presence of gravity\n",
    "import numpy as np\n",
    "import matplotlib.pyplot as plt\n",
    "\n",
    "#define constants, time step size, and integration time\n",
    "m, k, g = 1.0, 0.2, 9.8\n",
    "dt = 0.01\n",
    "tmax = 30.0\n",
    "num_steps = int(tmax/dt) \n",
    "\n",
    "#define functions\n",
    "def dxdt(vel):\n",
    "    return vel\n",
    "\n",
    "def dvdt(vel):\n",
    "    return g - k/m * vel\n",
    "\n",
    "#define initial conditions and arrays\n",
    "x = np.zeros(num_steps+1)\n",
    "v = np.zeros(num_steps+1)\n",
    "\n",
    "#perform the Euler step algorithm\n",
    "for i in range(1,num_steps+1):\n",
    "    x[i] = x[i-1] + dt * dxdt(v[i-1])\n",
    "    v[i] = v[i-1] + dt * dvdt(v[i-1])\n",
    "\n",
    "time = np.arange(0,tmax+dt,dt)\n",
    "\n",
    "fig, axes = plt.subplots(1, 2, figsize=(10,4))\n",
    "axes[0].plot(time,x)\n",
    "axes[0].set_xlabel(\"time, s\")\n",
    "axes[0].set_ylabel(\"x, m\")\n",
    "axes[1].plot(time,v)\n",
    "axes[1].set_xlabel(\"time, s\")\n",
    "axes[1].set_ylabel(\"v, m/s\")\n",
    "fig.savefig(\"linear_air_resistance.eps\")\n"
   ]
  },
  {
   "cell_type": "markdown",
   "metadata": {},
   "source": [
    "# Exercise 1\n",
    "\n",
    "- Run example of air resistance in the cell above (p. 51, Example 2.5)\n",
    "- Make sure the graphs match those shown in the text\n",
    "- Update the code to make air resistance quadratic instead of linear\n",
    "- Compare the motion for the linear and quadratic air resistance\n",
    "  - does the terminal speed change?  \n",
    "  - does the time to reach the terminal speed change?\n",
    "  - how do the shapes of the (x vs t) and (v vs t) graphs compare?\n",
    "- Compare the terminal speed for the case of linear air resistance to the analytic expression you derived in the lecture tutorial on velocity-dependent forces. \n",
    "  - plot the analytic value as a horizontal line (you can use the plt.axhline function).\n",
    "- Save the figure as quadratic_air_resistance.png\n",
    "\n"
   ]
  },
  {
   "cell_type": "code",
   "execution_count": null,
   "metadata": {},
   "outputs": [],
   "source": []
  },
  {
   "cell_type": "markdown",
   "metadata": {},
   "source": [
    "# Exercise 2\n",
    "\n",
    "- Adjust Example 2.5 to describe the motion of a ball thrown vertically upward with an initial speed of 30 m/s from the edge of a cliff.  The height of the cliff is 50 m.\n",
    "- draw a diagram of the situation on your whiteboard\n",
    "- clearly show where the origin is\n",
    "- list the initial position and velocity\n",
    "- make any adjustments to Example 2.5 to solve for the \n"
   ]
  },
  {
   "cell_type": "code",
   "execution_count": null,
   "metadata": {},
   "outputs": [],
   "source": []
  },
  {
   "cell_type": "markdown",
   "metadata": {},
   "source": [
    "# Exercise 3: Radioactive Decay\n",
    "\n",
    "- Use Euler's method to solve the ODE from Problem 1 using $N_0 = 10^5$ particles and $\\lambda = 0.1~s^{-1}$.  \n",
    "- Plot your solution\n",
    "- Plot the analytic function you found for Problem 1\n",
    "- Compare the Euler and analytic solutions - what is the percent error in the Euler method?\n",
    "- What changes can you make to the Euler method to decrease the percent error even further?\n"
   ]
  },
  {
   "cell_type": "code",
   "execution_count": null,
   "metadata": {},
   "outputs": [],
   "source": []
  },
  {
   "cell_type": "markdown",
   "metadata": {},
   "source": [
    "# Exercise 4: Apply to another physical situation\n",
    "\n",
    "- The Euler method can be applied to any problem for with a differential equation describes how a quantity changes with time.\n",
    "- With your group, come up with another physical situation that you can model with the Euler method.\n",
    "- Analyze the physical situation, figure out what the differential equation is, and solve."
   ]
  },
  {
   "cell_type": "code",
   "execution_count": null,
   "metadata": {},
   "outputs": [],
   "source": []
  }
 ],
 "metadata": {
  "kernelspec": {
   "display_name": "Python 3",
   "language": "python",
   "name": "python3"
  },
  "language_info": {
   "codemirror_mode": {
    "name": "ipython",
    "version": 3
   },
   "file_extension": ".py",
   "mimetype": "text/x-python",
   "name": "python",
   "nbconvert_exporter": "python",
   "pygments_lexer": "ipython3",
   "version": "3.8.5"
  }
 },
 "nbformat": 4,
 "nbformat_minor": 4
}
